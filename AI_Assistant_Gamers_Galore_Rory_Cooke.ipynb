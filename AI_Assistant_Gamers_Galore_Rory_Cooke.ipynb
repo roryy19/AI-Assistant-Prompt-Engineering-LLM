{
 "cells": [
  {
   "cell_type": "code",
   "execution_count": 28,
   "id": "1aa1c024-cc5c-42e7-bd31-e8b5e6e26b86",
   "metadata": {
    "tags": []
   },
   "outputs": [],
   "source": [
    "from transformers import pipeline, AutoTokenizer\n",
    "\n",
    "# Load the LLaMA-2 model and tokenizer\n",
    "model_name = \"TheBloke/Llama-2-13B-chat-GPTQ\"\n",
    "llama_pipe = pipeline(\"text-generation\", model=model_name, device_map=\"auto\")\n",
    "tokenizer = AutoTokenizer.from_pretrained(model_name)"
   ]
  },
  {
   "cell_type": "code",
   "execution_count": 21,
   "id": "e1855b2a-3df9-48cc-9cab-389326d46402",
   "metadata": {
    "tags": []
   },
   "outputs": [],
   "source": [
    "def generate(prompt, max_new_tokens=512, pipe=llama_pipe, **kwargs):\n",
    "    \"\"\"\n",
    "    Generates a response to the given prompt using a specified language model pipeline.\n",
    "    \"\"\"\n",
    "    def_kwargs = dict(return_full_text=False, return_dict=False)\n",
    "    response = pipe(prompt.strip(), max_new_tokens=max_new_tokens, **kwargs, **def_kwargs)\n",
    "    return response[0]['generated_text'].strip()"
   ]
  },
  {
   "cell_type": "code",
   "execution_count": 3,
   "id": "302464d0-062a-401e-81d2-f56e4c4b9de2",
   "metadata": {
    "tags": []
   },
   "outputs": [],
   "source": [
    "def construct_prompt_with_context(main_prompt, system_context=\"\", conversation_examples=[]):\n",
    "    \"\"\"\n",
    "    Constructs a complete structured prompt for a language model, including optional system context and conversation examples.\n",
    "    \"\"\"\n",
    "    if not system_context and not conversation_examples:\n",
    "        return main_prompt\n",
    "\n",
    "    full_prompt = f\"<s>[INST] <<SYS>>\\n{system_context}\\n<</SYS>>\\n\" if system_context else \"<s>[INST]\\n\"\n",
    "    for user_msg, agent_response in conversation_examples:\n",
    "        full_prompt += f\"{user_msg} [/INST] {agent_response} </s><s>[INST]\"\n",
    "    full_prompt += f\"{main_prompt} [/INST]\"\n",
    "    return full_prompt"
   ]
  },
  {
   "cell_type": "code",
   "execution_count": 4,
   "id": "5ddb134f-575c-443e-9979-0867fe2daef1",
   "metadata": {
    "tags": []
   },
   "outputs": [],
   "source": [
    "class LlamaChatbotWithHistoryLimit:\n",
    "    \"\"\"\n",
    "    A chatbot interface for generating conversational responses using the LLaMA language model with a token limit for conversation history.\n",
    "    \"\"\"\n",
    "    def __init__(self, system_context, tokenizer, max_tokens=2048):\n",
    "        self.system_context = system_context\n",
    "        self.tokenizer = tokenizer\n",
    "        self.max_tokens = max_tokens\n",
    "        self.conversation_history = []\n",
    "\n",
    "    def chat(self, user_msg):\n",
    "        prompt = construct_prompt_with_context(user_msg, self.system_context, self.conversation_history)\n",
    "        agent_response = generate(prompt)\n",
    "        self.conversation_history.append((user_msg, agent_response))\n",
    "        self._trim_conversation_history()\n",
    "        return agent_response\n",
    "\n",
    "    def _trim_conversation_history(self):\n",
    "        history_string = ''.join(user + agent for user, agent in self.conversation_history)\n",
    "        history_tokens = len(self.tokenizer.encode(history_string))\n",
    "        while history_tokens > self.max_tokens:\n",
    "            if self.conversation_history:\n",
    "                self.conversation_history.pop(0)\n",
    "                history_string = ''.join(user + agent for user, agent in self.conversation_history)\n",
    "                history_tokens = len(self.tokenizer.encode(history_string))\n",
    "            else:\n",
    "                break\n",
    "\n",
    "    def reset(self):\n",
    "        self.conversation_history = []"
   ]
  },
  {
   "cell_type": "code",
   "execution_count": 5,
   "id": "1bfb1c66-2b02-4b0e-bf6f-733363bfd629",
   "metadata": {
    "tags": []
   },
   "outputs": [],
   "source": [
    "computers = [\n",
    "    {\n",
    "        \"model\": \"Gamer's Entry\",\n",
    "        \"type\": \"Entry-level Gaming PC\",\n",
    "        \"specs\": {\n",
    "            \"CPU\": \"Intel Core i5-11400F\",\n",
    "            \"GPU\": \"NVIDIA GeForce GTX 1650\",\n",
    "            \"RAM\": \"8GB DDR4\",\n",
    "            \"Storage\": \"256GB SSD\",\n",
    "            \"Motherboard\": \"B560 Chipset\",\n",
    "            \"PSU\": \"500W Bronze\",\n",
    "            \"Case\": \"Compact ATX case with RGB lighting\"\n",
    "        },\n",
    "        \"usps\": [\"Affordable gaming\", \"Compact design\", \"RGB lighting\"],\n",
    "        \"price\": 699.99,\n",
    "        \"internal_id\": \"GE1001\",\n",
    "        \"weight\": \"8 kg\",\n",
    "        \"manufacturer_location\": \"USA\"\n",
    "    },\n",
    "    {\n",
    "        \"model\": \"Gamer's Mid\",\n",
    "        \"type\": \"Mid-range Gaming PC\",\n",
    "        \"specs\": {\n",
    "            \"CPU\": \"AMD Ryzen 5 5600X\",\n",
    "            \"GPU\": \"NVIDIA GeForce RTX 3060\",\n",
    "            \"RAM\": \"16GB DDR4\",\n",
    "            \"Storage\": \"512GB SSD + 1TB HDD\",\n",
    "            \"Motherboard\": \"X570 Chipset\",\n",
    "            \"PSU\": \"650W Gold\",\n",
    "            \"Case\": \"Mid-tower ATX case with tempered glass\"\n",
    "        },\n",
    "        \"usps\": [\"Balanced performance\", \"Ray tracing support\", \"Future upgrade-ready\"],\n",
    "        \"price\": 1199.99,\n",
    "        \"internal_id\": \"GM2002\",\n",
    "        \"weight\": \"12 kg\",\n",
    "        \"manufacturer_location\": \"USA\"\n",
    "    },\n",
    "    {\n",
    "        \"model\": \"Gamer's Pro\",\n",
    "        \"type\": \"High-end Gaming PC\",\n",
    "        \"specs\": {\n",
    "            \"CPU\": \"Intel Core i9-12900K\",\n",
    "            \"GPU\": \"NVIDIA GeForce RTX 3080 Ti\",\n",
    "            \"RAM\": \"32GB DDR5\",\n",
    "            \"Storage\": \"1TB NVMe SSD\",\n",
    "            \"Motherboard\": \"Z690 Chipset\",\n",
    "            \"PSU\": \"850W Platinum\",\n",
    "            \"Case\": \"Full-tower ATX case with custom liquid cooling\"\n",
    "        },\n",
    "        \"usps\": [\"Extreme performance\", \"Custom liquid cooling\", \"Premium components\"],\n",
    "        \"price\": 2999.99,\n",
    "        \"internal_id\": \"GP3003\",\n",
    "        \"weight\": \"15 kg\",\n",
    "        \"manufacturer_location\": \"USA\"\n",
    "    }\n",
    "]"
   ]
  },
  {
   "cell_type": "code",
   "execution_count": 6,
   "id": "28a1c1b5-c32e-479a-bc3e-31f99c2eaa5e",
   "metadata": {
    "tags": []
   },
   "outputs": [],
   "source": [
    "system_context = f\"\"\"\n",
    "You are a friendly AI assistant for Gamers' Galore, knowledgeable about these gaming PCs: {computers}.\n",
    "When asked about specific models or specs, provide accurate and helpful answers in 50 words or less.\n",
    "Always end by asking if there's anything else you can assist with.\n",
    "\"\"\""
   ]
  },
  {
   "cell_type": "code",
   "execution_count": 30,
   "id": "5ce4e319-d9ac-4938-8b4b-7c2ca2d0b8c6",
   "metadata": {
    "tags": []
   },
   "outputs": [],
   "source": [
    "# Instantiate the chatbot with a higher token limit for conversation history\n",
    "chatbot = LlamaChatbotWithHistoryLimit(system_context, tokenizer=tokenizer, max_tokens=2048)"
   ]
  },
  {
   "cell_type": "code",
   "execution_count": 22,
   "id": "d09d4fdf-8992-46f0-ba8f-3f0d32794a22",
   "metadata": {
    "tags": []
   },
   "outputs": [
    {
     "name": "stdout",
     "output_type": "stream",
     "text": [
      "Of course! Our latest gaming PCs include the Gamer's Entry, Gamer's Mid, and Gamer's Pro. The Gamer's Entry offers affordable gaming with an Intel Core i5-11400F and NVIDIA GeForce GTX 1650, while the Gamer's Mid balances performance with an AMD Ryzen 5 5600X and NVIDIA GeForce RTX 3060. The Gamer's Pro delivers extreme performance with an Intel Core i9-12900K and NVIDIA GeForce RTX 3080 Ti. All models support VR gaming and can be upgraded with more RAM and storage. What else can I help you with?\n"
     ]
    }
   ],
   "source": [
    "user_input = \"Can you tell me about your latest gaming PCs?\"\n",
    "response = chatbot.chat(user_input)\n",
    "print(response)"
   ]
  },
  {
   "cell_type": "code",
   "execution_count": 23,
   "id": "214fcc47-de93-4d62-9a23-d08575d471ed",
   "metadata": {
    "tags": []
   },
   "outputs": [
    {
     "name": "stdout",
     "output_type": "stream",
     "text": [
      "Sure thing! The Gamer's Mid is a mid-range gaming PC that offers a great balance of performance and affordability. It features an AMD Ryzen 5 5600X processor and NVIDIA GeForce RTX 3060, providing 100% performance for a fraction of the cost of high-end gaming PCs. With 16GB of DDR4 RAM and a 512GB SSD, you'll have plenty of storage and memory for your games and applications. The Gamer's Mid also supports VR gaming and can be upgraded with more RAM and storage. Anything else I can help you with?\n"
     ]
    }
   ],
   "source": [
    "user_input = \"Tell me more about the Gamer's Mid.\"\n",
    "response = chatbot.chat(user_input)\n",
    "print(response)"
   ]
  },
  {
   "cell_type": "code",
   "execution_count": 24,
   "id": "af543977-c97c-4863-a912-fde753f7a65a",
   "metadata": {
    "tags": []
   },
   "outputs": [
    {
     "name": "stdout",
     "output_type": "stream",
     "text": [
      "Absolutely! The Gamer's Entry can support up to 32GB of DDR4 RAM, giving you plenty of memory for your gaming adventures. Keep in mind that the motherboard only supports up to 2400MHz RAM, so ensure you get RAM that supports that speed. I'm here to help if you need help upgrading or have any other questions!\n"
     ]
    }
   ],
   "source": [
    "user_input = \"Can I upgrade the RAM on the Gamer's Entry?\"\n",
    "response = chatbot.chat(user_input)\n",
    "print(response)"
   ]
  },
  {
   "cell_type": "code",
   "execution_count": 25,
   "id": "96350b98-0bc8-43ee-bf62-a1434a6c49b4",
   "metadata": {
    "tags": []
   },
   "outputs": [
    {
     "name": "stdout",
     "output_type": "stream",
     "text": [
      "The Gamer's Pro features custom liquid cooling to keep its high-performance components running cool and quiet. The system includes a 240mm liquid cooler for the CPU and a 280mm liquid cooler for the GPU, ensuring optimal cooling and overclocking potential. The custom cooling system is designed for maximum performance and silence, giving you the best gaming experience. Anything else I can help you with?\n"
     ]
    }
   ],
   "source": [
    "user_input = \"What kind of cooling does the Gamer's Pro use?\"\n",
    "response = chatbot.chat(user_input)\n",
    "print(response)"
   ]
  },
  {
   "cell_type": "code",
   "execution_count": 26,
   "id": "d913602c-4059-4378-940f-129bb7b30251",
   "metadata": {
    "tags": []
   },
   "outputs": [
    {
     "name": "stdout",
     "output_type": "stream",
     "text": [
      "For VR gaming, I recommend the Gamer's Pro. Its Intel Core i9-12900K and NVIDIA GeForce RTX 3080 Ti provide extreme performance for seamless VR experiences. The custom liquid cooling system keeps components cool and quiet. With 32GB DDR5 RAM and 1TB NVMe SSD, you'll have plenty of storage and memory for your games and applications. The Gamer's Pro can be upgraded with more RAM and storage. Anything else I can help you with?\n"
     ]
    }
   ],
   "source": [
    "user_input = \"Which PC do you recommend for VR gaming?\"\n",
    "response = chatbot.chat(user_input)\n",
    "print(response)"
   ]
  },
  {
   "cell_type": "code",
   "execution_count": 27,
   "id": "572c2e82-5ddd-42d8-b9b6-44c2bdfe605a",
   "metadata": {
    "tags": []
   },
   "outputs": [
    {
     "name": "stdout",
     "output_type": "stream",
     "text": [
      "Sure thing! We discussed your latest gaming PCs, including the Gamer's Entry, Gamer's Mid, and Gamer's Pro. The Gamer's Entry offers affordable gaming with an Intel Core i5-11400F and NVIDIA GeForce GTX 1650, while the Gamer's Mid balances performance with an AMD Ryzen 5 5600X and NVIDIA GeForce RTX 3060. The Gamer's Pro delivers extreme performance with an Intel Core i9-12900K and NVIDIA GeForce RTX 3080 Ti, supporting VR gaming and upgrades with more RAM and storage. Anything else I can help you with?\n"
     ]
    }
   ],
   "source": [
    "user_input = \"Can you summarize our conversation?\"\n",
    "response = chatbot.chat(user_input)\n",
    "print(response)"
   ]
  }
 ],
 "metadata": {
  "kernelspec": {
   "display_name": "Python 3 (ipykernel)",
   "language": "python",
   "name": "python3"
  },
  "language_info": {
   "codemirror_mode": {
    "name": "ipython",
    "version": 3
   },
   "file_extension": ".py",
   "mimetype": "text/x-python",
   "name": "python",
   "nbconvert_exporter": "python",
   "pygments_lexer": "ipython3",
   "version": "3.8.10"
  }
 },
 "nbformat": 4,
 "nbformat_minor": 5
}
